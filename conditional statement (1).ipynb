{
 "cells": [
  {
   "cell_type": "code",
   "execution_count": 2,
   "id": "fe4ebb37",
   "metadata": {},
   "outputs": [
    {
     "name": "stdout",
     "output_type": "stream",
     "text": [
      "enter the value of temp : 35\n",
      "warm day\n",
      "Drink water\n",
      "done\n"
     ]
    }
   ],
   "source": [
    "#conditionl statement\n",
    "\n",
    "temperature=int(input(\"enter the value of temp : \"))\n",
    "if temperature>30:\n",
    "    print(\"warm day\")\n",
    "    print(\"Drink water\")\n",
    "print(\"done\")    "
   ]
  },
  {
   "cell_type": "code",
   "execution_count": 4,
   "id": "a120e763",
   "metadata": {},
   "outputs": [
    {
     "name": "stdout",
     "output_type": "stream",
     "text": [
      "warm day\n",
      "Drink water\n",
      "done\n"
     ]
    }
   ],
   "source": [
    "temperature=35\n",
    "if temperature>30:\n",
    "    print(\"warm day\")\n",
    "    print(\"Drink water\")\n",
    "elif temperature>=25:\n",
    "    print(\"It is nice day\")\n",
    "print(\"done\") "
   ]
  },
  {
   "cell_type": "code",
   "execution_count": 6,
   "id": "0d09c31e",
   "metadata": {},
   "outputs": [
    {
     "name": "stdout",
     "output_type": "stream",
     "text": [
      "it is cold day\n"
     ]
    }
   ],
   "source": [
    "temperature=18\n",
    "if temperature>20:\n",
    "    print(\"have a nice day\")\n",
    "else:\n",
    "    print(\"it is cold day\")"
   ]
  },
  {
   "cell_type": "code",
   "execution_count": 8,
   "id": "35f727ed",
   "metadata": {},
   "outputs": [
    {
     "name": "stdout",
     "output_type": "stream",
     "text": [
      "yes am eligibe for vote\n"
     ]
    }
   ],
   "source": [
    "age=18\n",
    "message=\"yes am eligibe for vote\" if age>=18 else \"not eligible for vote\"\n",
    "print(message)"
   ]
  },
  {
   "cell_type": "code",
   "execution_count": 17,
   "id": "9a35ac78",
   "metadata": {},
   "outputs": [
    {
     "name": "stdout",
     "output_type": "stream",
     "text": [
      "not eligible for loan\n"
     ]
    }
   ],
   "source": [
    "high_income=True\n",
    "good_cridit=False\n",
    "student=True\n",
    "if not student:\n",
    "    print(\"eligible for loan\")\n",
    "elif student:\n",
    "    print(\"not eligible for loan\")\n",
    "else:\n",
    "    print(\"its okay\")\n",
    "    "
   ]
  },
  {
   "cell_type": "code",
   "execution_count": 21,
   "id": "58dff7bb",
   "metadata": {},
   "outputs": [
    {
     "name": "stdout",
     "output_type": "stream",
     "text": [
      "eligible for loan\n",
      "it's not okay\n"
     ]
    }
   ],
   "source": [
    "high_income=True\n",
    "good_cridit=False\n",
    "student=True\n",
    "if not good_cridit:\n",
    "    print(\"eligible for loan\")\n",
    "elif student:\n",
    "    print(\"not eligible for loan\")\n",
    "elif high_income:\n",
    "    print(\"its okay\")\n",
    "    \n",
    "print(\"it's not okay\") "
   ]
  },
  {
   "cell_type": "code",
   "execution_count": 22,
   "id": "720b7813",
   "metadata": {},
   "outputs": [
    {
     "name": "stdout",
     "output_type": "stream",
     "text": [
      "not eligible for loan\n"
     ]
    }
   ],
   "source": [
    "high_income=True\n",
    "good_cridit=False\n",
    "student=True\n",
    "if(high_income or good_cridit) and not student:\n",
    "    print(\"eligible for loan\")\n",
    "else:\n",
    "    print(\"not eligible for loan\")"
   ]
  },
  {
   "cell_type": "code",
   "execution_count": 2,
   "id": "2541d0a8",
   "metadata": {},
   "outputs": [
    {
     "name": "stdout",
     "output_type": "stream",
     "text": [
      "eligible\n"
     ]
    }
   ],
   "source": [
    "#Chaining comparision\n",
    "\n",
    "age=22\n",
    "if age>=18 and age<65:\n",
    "    print(\"eligible\")"
   ]
  },
  {
   "cell_type": "code",
   "execution_count": 3,
   "id": "f9404c62",
   "metadata": {},
   "outputs": [
    {
     "name": "stdout",
     "output_type": "stream",
     "text": [
      "eligible\n"
     ]
    }
   ],
   "source": [
    "age=22\n",
    "if 18<=age<65:\n",
    "    print(\"eligible\")"
   ]
  },
  {
   "cell_type": "code",
   "execution_count": 4,
   "id": "1fb85e1d",
   "metadata": {},
   "outputs": [
    {
     "name": "stdout",
     "output_type": "stream",
     "text": [
      "c\n"
     ]
    }
   ],
   "source": [
    "if 10=='10':\n",
    "    print(\"a\")\n",
    "elif 'bag'>'apple' and 'bag'>'cat':\n",
    "    print(\"b\")\n",
    "else:\n",
    "    print(\"c\")\n"
   ]
  },
  {
   "cell_type": "code",
   "execution_count": 5,
   "id": "1c2cda65",
   "metadata": {},
   "outputs": [
    {
     "data": {
      "text/plain": [
       "98"
      ]
     },
     "execution_count": 5,
     "metadata": {},
     "output_type": "execute_result"
    }
   ],
   "source": [
    "ord('b')"
   ]
  },
  {
   "cell_type": "code",
   "execution_count": 6,
   "id": "d3f16850",
   "metadata": {},
   "outputs": [
    {
     "data": {
      "text/plain": [
       "97"
      ]
     },
     "execution_count": 6,
     "metadata": {},
     "output_type": "execute_result"
    }
   ],
   "source": [
    "ord('a')"
   ]
  },
  {
   "cell_type": "code",
   "execution_count": 7,
   "id": "50ed1b0e",
   "metadata": {},
   "outputs": [
    {
     "data": {
      "text/plain": [
       "99"
      ]
     },
     "execution_count": 7,
     "metadata": {},
     "output_type": "execute_result"
    }
   ],
   "source": [
    "ord('c')"
   ]
  },
  {
   "cell_type": "code",
   "execution_count": 10,
   "id": "88214a3a",
   "metadata": {},
   "outputs": [
    {
     "data": {
      "text/plain": [
       "True"
      ]
     },
     "execution_count": 10,
     "metadata": {},
     "output_type": "execute_result"
    }
   ],
   "source": [
    "'bag'<'bags'"
   ]
  },
  {
   "cell_type": "code",
   "execution_count": 11,
   "id": "9e5739cd",
   "metadata": {},
   "outputs": [
    {
     "name": "stdout",
     "output_type": "stream",
     "text": [
      "a 0\n",
      "a 1\n",
      "a 2\n"
     ]
    }
   ],
   "source": [
    "#For loop\n",
    "\n",
    "for num in range(3):\n",
    "    print('a', num)"
   ]
  },
  {
   "cell_type": "code",
   "execution_count": 12,
   "id": "b36233a4",
   "metadata": {},
   "outputs": [
    {
     "data": {
      "text/plain": [
       "int"
      ]
     },
     "execution_count": 12,
     "metadata": {},
     "output_type": "execute_result"
    }
   ],
   "source": [
    "type(num)"
   ]
  },
  {
   "cell_type": "code",
   "execution_count": 13,
   "id": "e745f496",
   "metadata": {},
   "outputs": [
    {
     "name": "stdout",
     "output_type": "stream",
     "text": [
      "a 1\n",
      "a 2\n",
      "a 3\n"
     ]
    }
   ],
   "source": [
    "for num in range(3):\n",
    "    print('a',num+1)"
   ]
  },
  {
   "cell_type": "code",
   "execution_count": 14,
   "id": "1f0f268a",
   "metadata": {},
   "outputs": [
    {
     "name": "stdout",
     "output_type": "stream",
     "text": [
      "a 1 .\n",
      "a 2 ..\n",
      "a 3 ...\n"
     ]
    }
   ],
   "source": [
    "for num in range(3):\n",
    "    print('a',num+1,(num+1)*'.')"
   ]
  },
  {
   "cell_type": "code",
   "execution_count": 15,
   "id": "3e4cb1bc",
   "metadata": {},
   "outputs": [
    {
     "name": "stdout",
     "output_type": "stream",
     "text": [
      "a 1 .\n",
      "a 2 ..\n",
      "a 3 ...\n"
     ]
    }
   ],
   "source": [
    "for num in range(1,4):\n",
    "    print('a',num,num*'.')"
   ]
  },
  {
   "cell_type": "code",
   "execution_count": 16,
   "id": "4b66339a",
   "metadata": {},
   "outputs": [
    {
     "name": "stdout",
     "output_type": "stream",
     "text": [
      "a 1 .\n",
      "a 3 ...\n",
      "a 5 .....\n",
      "a 7 .......\n",
      "a 9 .........\n"
     ]
    }
   ],
   "source": [
    "#2 step skip\n",
    "for num in range(1,10,2):\n",
    "    print('a',num,num*'.')"
   ]
  },
  {
   "cell_type": "code",
   "execution_count": 20,
   "id": "412ad323",
   "metadata": {},
   "outputs": [
    {
     "name": "stdout",
     "output_type": "stream",
     "text": [
      "a 1 .\n",
      "a 3 ...\n",
      "a 5 .....\n",
      "a 7 .......\n",
      "a 9 .........\n",
      "a 11 ...........\n",
      "a 14 ..............\n",
      "a 17 .................\n"
     ]
    }
   ],
   "source": [
    "for num in range(1,10,2):\n",
    "    print('a',num,num*'.')\n",
    "for num in range(11,18,3):\n",
    "        print('a',num,num*'.')"
   ]
  },
  {
   "cell_type": "code",
   "execution_count": 26,
   "id": "8e9cc39a",
   "metadata": {},
   "outputs": [
    {
     "name": "stdout",
     "output_type": "stream",
     "text": [
      "attempt\n",
      "Successful\n",
      "attempt\n",
      "Successful\n",
      "attempt\n",
      "Successful\n"
     ]
    }
   ],
   "source": [
    "#For else\n",
    "\n",
    "successful=True\n",
    "for num in range(3):\n",
    "    print('attempt')\n",
    "    if successful:\n",
    "        print(\"Successful\")\n",
    "        "
   ]
  },
  {
   "cell_type": "code",
   "execution_count": 24,
   "id": "3e967468",
   "metadata": {},
   "outputs": [
    {
     "name": "stdout",
     "output_type": "stream",
     "text": [
      "attempt\n",
      "Successful\n"
     ]
    }
   ],
   "source": [
    "successful=True\n",
    "for num in range(3):\n",
    "    print('attempt')\n",
    "    if successful:\n",
    "        print(\"Successful\")\n",
    "        break        "
   ]
  },
  {
   "cell_type": "code",
   "execution_count": 27,
   "id": "64295793",
   "metadata": {},
   "outputs": [
    {
     "name": "stdout",
     "output_type": "stream",
     "text": [
      "attempt\n",
      "attempt\n",
      "attempt\n"
     ]
    }
   ],
   "source": [
    "successful=False\n",
    "for num in range(3):\n",
    "    print('attempt')\n",
    "    if successful:\n",
    "        print(\"Successful\")"
   ]
  },
  {
   "cell_type": "code",
   "execution_count": 28,
   "id": "2d949296",
   "metadata": {},
   "outputs": [
    {
     "name": "stdout",
     "output_type": "stream",
     "text": [
      "attempt\n",
      "attempt\n",
      "attempt\n"
     ]
    }
   ],
   "source": [
    "successful=False\n",
    "for num in range(3):\n",
    "    print('attempt')\n",
    "    if successful:\n",
    "        print(\"Successful\")\n",
    "        break"
   ]
  },
  {
   "cell_type": "code",
   "execution_count": 29,
   "id": "e5af0020",
   "metadata": {},
   "outputs": [
    {
     "name": "stdout",
     "output_type": "stream",
     "text": [
      "attempt\n",
      "attempt\n",
      "attempt\n",
      "ttempt 3 times and fail\n"
     ]
    }
   ],
   "source": [
    "#For if-else\n",
    "\n",
    "successful=False\n",
    "for num in range(3):\n",
    "    print('attempt')\n",
    "    if successful:\n",
    "        print(\"Successful\")\n",
    "        break\n",
    "else:\n",
    "    print(\"ttempt 3 times and fail\")"
   ]
  },
  {
   "cell_type": "code",
   "execution_count": 31,
   "id": "b7fcc95a",
   "metadata": {},
   "outputs": [
    {
     "name": "stdout",
     "output_type": "stream",
     "text": [
      "attempt\n",
      "Successful\n"
     ]
    }
   ],
   "source": [
    "successful=True\n",
    "for num in range(3):\n",
    "    print('attempt')\n",
    "    if successful:\n",
    "        print(\"Successful\")\n",
    "        break\n",
    "else:\n",
    "    print(\"ttempt 3 times and fail\")"
   ]
  },
  {
   "cell_type": "code",
   "execution_count": 34,
   "id": "2d8c65c5",
   "metadata": {},
   "outputs": [
    {
     "name": "stdout",
     "output_type": "stream",
     "text": [
      "0,0\n",
      "0,1\n",
      "0,2\n",
      "1,0\n",
      "1,1\n",
      "1,2\n",
      "2,0\n",
      "2,1\n",
      "2,2\n"
     ]
    }
   ],
   "source": [
    "#Nested loop\n",
    "\n",
    "for x in range(3):\n",
    "    for y in range(3):\n",
    "        print(f\"{x},{y}\")"
   ]
  },
  {
   "cell_type": "code",
   "execution_count": 35,
   "id": "71c3184e",
   "metadata": {},
   "outputs": [
    {
     "name": "stdout",
     "output_type": "stream",
     "text": [
      "p\n",
      "y\n",
      "t\n",
      "h\n",
      "o\n",
      "n\n"
     ]
    }
   ],
   "source": [
    "#Iterable\n",
    "\n",
    "for x in 'python':\n",
    "    print(x)"
   ]
  },
  {
   "cell_type": "code",
   "execution_count": 36,
   "id": "70884417",
   "metadata": {},
   "outputs": [
    {
     "name": "stdout",
     "output_type": "stream",
     "text": [
      "1\n",
      "2\n",
      "3\n",
      "4\n",
      "5\n",
      "6\n",
      "7\n",
      "8\n",
      "9\n"
     ]
    }
   ],
   "source": [
    "for x in [1,2,3,4,5,6,7,8,9,]:\n",
    "    print(x)"
   ]
  },
  {
   "cell_type": "code",
   "execution_count": 37,
   "id": "ab6adb4d",
   "metadata": {},
   "outputs": [
    {
     "name": "stdout",
     "output_type": "stream",
     "text": [
      "0\n",
      "1\n",
      "2\n",
      "3\n",
      "4\n",
      "5\n",
      "6\n",
      "7\n",
      "8\n",
      "9\n"
     ]
    }
   ],
   "source": [
    "for x in range(10):\n",
    "    print(x)"
   ]
  },
  {
   "cell_type": "code",
   "execution_count": 39,
   "id": "0150dea5",
   "metadata": {},
   "outputs": [
    {
     "name": "stdout",
     "output_type": "stream",
     "text": [
      "100\n",
      "50\n",
      "25\n",
      "12\n",
      "6\n",
      "3\n",
      "1\n"
     ]
    }
   ],
   "source": [
    "#While loop\n",
    "\n",
    "num=100\n",
    "while num>0:\n",
    "    print(num)\n",
    "    num //=2"
   ]
  },
  {
   "cell_type": "code",
   "execution_count": 41,
   "id": "62ece663",
   "metadata": {},
   "outputs": [
    {
     "name": "stdout",
     "output_type": "stream",
     "text": [
      "1\n",
      "2\n",
      "4\n",
      "5\n",
      "6\n"
     ]
    }
   ],
   "source": [
    "i=0\n",
    "while i<6:\n",
    "    i +=1\n",
    "    if i==3:\n",
    "        continue\n",
    "    print(i)    "
   ]
  },
  {
   "cell_type": "code",
   "execution_count": 42,
   "id": "62d60aef",
   "metadata": {},
   "outputs": [
    {
     "name": "stdout",
     "output_type": "stream",
     "text": [
      "1\n",
      "2\n",
      "4\n",
      "5\n",
      "6\n",
      "7\n"
     ]
    }
   ],
   "source": [
    "i=0\n",
    "while i<7:\n",
    "    i +=1\n",
    "    if i==3:\n",
    "        continue\n",
    "    print(i)    "
   ]
  },
  {
   "cell_type": "code",
   "execution_count": 45,
   "id": "030286ae",
   "metadata": {},
   "outputs": [
    {
     "name": "stdout",
     "output_type": "stream",
     "text": [
      "1\n",
      "2\n",
      "3\n",
      "4\n",
      "5\n",
      "i is no longer less than 6\n"
     ]
    }
   ],
   "source": [
    "i=1\n",
    "while i<6:\n",
    "    print(i)\n",
    "    i +=1\n",
    "else:    \n",
    "    print(\"i is no longer less than 6\")    "
   ]
  },
  {
   "cell_type": "code",
   "execution_count": null,
   "id": "83bf0aa2",
   "metadata": {},
   "outputs": [],
   "source": []
  }
 ],
 "metadata": {
  "kernelspec": {
   "display_name": "Python 3",
   "language": "python",
   "name": "python3"
  },
  "language_info": {
   "codemirror_mode": {
    "name": "ipython",
    "version": 3
   },
   "file_extension": ".py",
   "mimetype": "text/x-python",
   "name": "python",
   "nbconvert_exporter": "python",
   "pygments_lexer": "ipython3",
   "version": "3.8.8"
  }
 },
 "nbformat": 4,
 "nbformat_minor": 5
}
