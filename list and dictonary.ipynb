{
 "cells": [
  {
   "cell_type": "code",
   "execution_count": 8,
   "id": "9e43825e",
   "metadata": {},
   "outputs": [
    {
     "data": {
      "text/plain": [
       "2"
      ]
     },
     "execution_count": 8,
     "metadata": {},
     "output_type": "execute_result"
    }
   ],
   "source": [
    "#DICTONARY\n",
    "\n",
    "d = {\"foo\":1,\"bar\":2}\n",
    "d [\"bar\"]"
   ]
  },
  {
   "cell_type": "code",
   "execution_count": 9,
   "id": "c9826d6e",
   "metadata": {},
   "outputs": [
    {
     "data": {
      "text/plain": [
       "dict_keys(['foo', 'bar'])"
      ]
     },
     "execution_count": 9,
     "metadata": {},
     "output_type": "execute_result"
    }
   ],
   "source": [
    "d.keys()"
   ]
  },
  {
   "cell_type": "code",
   "execution_count": 10,
   "id": "2879459f",
   "metadata": {},
   "outputs": [
    {
     "data": {
      "text/plain": [
       "dict_values([1, 2])"
      ]
     },
     "execution_count": 10,
     "metadata": {},
     "output_type": "execute_result"
    }
   ],
   "source": [
    "d.values()"
   ]
  },
  {
   "cell_type": "code",
   "execution_count": 19,
   "id": "23a787dd",
   "metadata": {},
   "outputs": [
    {
     "name": "stdout",
     "output_type": "stream",
     "text": [
      "<class 'dict_values'>\n"
     ]
    }
   ],
   "source": [
    "list1 = d.values()\n",
    "print(type(list1))"
   ]
  },
  {
   "cell_type": "code",
   "execution_count": 20,
   "id": "e61ffa20",
   "metadata": {},
   "outputs": [
    {
     "ename": "KeyError",
     "evalue": "'keys'",
     "output_type": "error",
     "traceback": [
      "\u001b[1;31m---------------------------------------------------------------------------\u001b[0m",
      "\u001b[1;31mKeyError\u001b[0m                                  Traceback (most recent call last)",
      "\u001b[1;32m<ipython-input-20-cf981f9dea4d>\u001b[0m in \u001b[0;36m<module>\u001b[1;34m\u001b[0m\n\u001b[1;32m----> 1\u001b[1;33m \u001b[0md\u001b[0m\u001b[1;33m[\u001b[0m\u001b[1;34m'keys'\u001b[0m\u001b[1;33m]\u001b[0m\u001b[1;33m\u001b[0m\u001b[1;33m\u001b[0m\u001b[0m\n\u001b[0m",
      "\u001b[1;31mKeyError\u001b[0m: 'keys'"
     ]
    }
   ],
   "source": [
    "d['keys'] #only key is present not value so it show error"
   ]
  },
  {
   "cell_type": "code",
   "execution_count": 24,
   "id": "7c19c0fd",
   "metadata": {},
   "outputs": [],
   "source": [
    "#how check two list are equal\n",
    "\n",
    "my_list=[1,2,3,4]\n",
    "your_list=[4,3,2,1]\n",
    "his_list=[1,2,3,4]"
   ]
  },
  {
   "cell_type": "code",
   "execution_count": 25,
   "id": "8bcc7b20",
   "metadata": {},
   "outputs": [
    {
     "name": "stdout",
     "output_type": "stream",
     "text": [
      "False\n"
     ]
    }
   ],
   "source": [
    "print(my_list==your_list)"
   ]
  },
  {
   "cell_type": "code",
   "execution_count": 26,
   "id": "7ed5a080",
   "metadata": {},
   "outputs": [
    {
     "name": "stdout",
     "output_type": "stream",
     "text": [
      "True\n"
     ]
    }
   ],
   "source": [
    "print(my_list==his_list)"
   ]
  },
  {
   "cell_type": "code",
   "execution_count": 36,
   "id": "e5b5ab4a",
   "metadata": {},
   "outputs": [
    {
     "name": "stdout",
     "output_type": "stream",
     "text": [
      "1\n",
      "4\n",
      "9\n",
      "16\n",
      "25\n"
     ]
    }
   ],
   "source": [
    "#FOR LOOP\n",
    "\n",
    "for a in[1,2,3,4,5]:\n",
    "    print(a**2)"
   ]
  },
  {
   "cell_type": "code",
   "execution_count": 37,
   "id": "026360db",
   "metadata": {},
   "outputs": [
    {
     "name": "stdout",
     "output_type": "stream",
     "text": [
      "c\n",
      "o\n",
      "m\n",
      "p\n",
      "u\n",
      "t\n",
      "e\n",
      "r\n"
     ]
    }
   ],
   "source": [
    "for a in 'computer':\n",
    "    print(a)"
   ]
  },
  {
   "cell_type": "code",
   "execution_count": 42,
   "id": "cb4acfb4",
   "metadata": {},
   "outputs": [
    {
     "name": "stdout",
     "output_type": "stream",
     "text": [
      "price is  2.5\n",
      "price is  3.5\n",
      "price is  6.8\n"
     ]
    }
   ],
   "source": [
    "prices=[2.50,3.50,6.80]\n",
    "for price in prices:\n",
    "    print('price is ',price)"
   ]
  },
  {
   "cell_type": "code",
   "execution_count": 46,
   "id": "aa5464ef",
   "metadata": {},
   "outputs": [
    {
     "name": "stdout",
     "output_type": "stream",
     "text": [
      "0.5323385743854773\n",
      "3\n",
      "94\n"
     ]
    }
   ],
   "source": [
    "#RANDOM FOR LOOP\n",
    "\n",
    "import random\n",
    "r1=random.random()\n",
    "print(r1)\n",
    "\n",
    "r2=random.choice([1,2,3,4])\n",
    "print(r2)\n",
    "\n",
    "r3=random.randint(1,100)\n",
    "print(r3)"
   ]
  },
  {
   "cell_type": "code",
   "execution_count": 49,
   "id": "3da49899",
   "metadata": {},
   "outputs": [
    {
     "name": "stdout",
     "output_type": "stream",
     "text": [
      "983\n",
      "116\n",
      "997\n",
      "276\n",
      "164\n",
      "723\n",
      "204\n",
      "612\n",
      "733\n",
      "545\n"
     ]
    }
   ],
   "source": [
    "import random\n",
    "for i in range(10):\n",
    "    ticket=random.randint(1,1000)\n",
    "    print(ticket)\n",
    " "
   ]
  },
  {
   "cell_type": "code",
   "execution_count": 50,
   "id": "48cb04b8",
   "metadata": {},
   "outputs": [],
   "source": [
    "import random\n",
    "for i in range(10,2):                  #place cursor on range and press 'shift+tab' \n",
    "    ticket=random.randint(1,1000)\n",
    "    print(ticket)\n",
    " #nothing will print"
   ]
  },
  {
   "cell_type": "code",
   "execution_count": 51,
   "id": "c09eecf7",
   "metadata": {},
   "outputs": [
    {
     "name": "stdout",
     "output_type": "stream",
     "text": [
      "2005\n",
      "2007\n",
      "2009\n",
      "2011\n",
      "2013\n",
      "2015\n"
     ]
    }
   ],
   "source": [
    "import random\n",
    "for i in range(2005,2017,2):\n",
    "    \n",
    "    print(i)\n",
    " "
   ]
  },
  {
   "cell_type": "code",
   "execution_count": 65,
   "id": "b2859ac8",
   "metadata": {},
   "outputs": [
    {
     "name": "stdout",
     "output_type": "stream",
     "text": [
      "outer loop 2005\n",
      "inner loop 2005\n",
      "inner loop 2006\n",
      "inner loop 2007\n",
      "inner loop 2008\n",
      "outer loop 2006\n",
      "inner loop 2005\n",
      "inner loop 2006\n",
      "inner loop 2007\n",
      "inner loop 2008\n",
      "outer loop 2007\n",
      "inner loop 2005\n",
      "inner loop 2006\n",
      "inner loop 2007\n",
      "inner loop 2008\n",
      "outer loop 2008\n",
      "inner loop 2005\n",
      "inner loop 2006\n",
      "inner loop 2007\n",
      "inner loop 2008\n",
      "Good Bye\n"
     ]
    }
   ],
   "source": [
    "for i in range(2005,2009,1):\n",
    "    print('outer loop',i) \n",
    "    for j in range(2005,2009,1):\n",
    "        print('inner loop',j)\n",
    "       \n",
    "print('Good Bye')    "
   ]
  },
  {
   "cell_type": "code",
   "execution_count": null,
   "id": "62ab1d17",
   "metadata": {},
   "outputs": [],
   "source": []
  }
 ],
 "metadata": {
  "kernelspec": {
   "display_name": "Python 3",
   "language": "python",
   "name": "python3"
  },
  "language_info": {
   "codemirror_mode": {
    "name": "ipython",
    "version": 3
   },
   "file_extension": ".py",
   "mimetype": "text/x-python",
   "name": "python",
   "nbconvert_exporter": "python",
   "pygments_lexer": "ipython3",
   "version": "3.8.8"
  }
 },
 "nbformat": 4,
 "nbformat_minor": 5
}
